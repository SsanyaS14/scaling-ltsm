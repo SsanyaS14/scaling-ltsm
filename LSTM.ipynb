{
 "cells": [
  {
   "cell_type": "code",
   "execution_count": 1,
   "metadata": {},
   "outputs": [],
   "source": [
    "#Plotting\n",
    "import matplotlib.pyplot as plt\n",
    "\n",
    "# Data analysis\n",
    "import pandas as pd\n",
    "import numpy as np\n",
    "from numpy import array\n",
    "\n",
    "#Error measurement metrics\n",
    "from sklearn.metrics import mean_squared_error,mean_absolute_error\n",
    "from sklearn.preprocessing import StandardScaler\n",
    "\n",
    "## Pytorch libraries to define the LSTM\n",
    "import torch #pytorch\n",
    "import torch.nn as nn\n",
    "from torch.autograd import Variable \n",
    "\n",
    "from torch.optim.lr_scheduler import ReduceLROnPlateau\n",
    "\n",
    "#Import partial autocorrelation plot\n",
    "from statsmodels.graphics.tsaplots import plot_pacf\n",
    "\n",
    "#Import UTuning\n",
    "from UTuning import scorer, plots\n",
    "\n",
    "# Module to fit gaussian mixtures\n",
    "from sklearn import mixture\n",
    "\n",
    "import random"
   ]
  },
  {
   "cell_type": "code",
   "execution_count": 2,
   "metadata": {},
   "outputs": [],
   "source": [
    "#Set seed numbers for reproducibility\n",
    "torch.manual_seed(0)\n",
    "np.random.seed(0)\n",
    "random.seed(0)"
   ]
  },
  {
   "cell_type": "code",
   "execution_count": 3,
   "metadata": {},
   "outputs": [],
   "source": [
    "# split a univariate sequence into samples\n",
    "def split_sequence(sequence, n_steps_in, n_steps_out):\n",
    "    X, y = list(), list()\n",
    "    for i in range(len(sequence)):\n",
    "        # find the end of this pattern\n",
    "        end_ix = i + n_steps_in\n",
    "        out_end_ix = end_ix + n_steps_out\n",
    "        # check if we are beyond the sequence\n",
    "        if out_end_ix > len(sequence):\n",
    "            break\n",
    "        # gather input and output parts of the pattern\n",
    "        seq_x, seq_y = sequence[i:end_ix], sequence[end_ix:out_end_ix]\n",
    "        X.append(seq_x)\n",
    "        y.append(seq_y)\n",
    "    return array(X), array(y)\n",
    "\n",
    "def time_array(array):\n",
    "    \"\"\"\n",
    "    Returns a time array in months\n",
    "    \"\"\"\n",
    "    time=np.arange(0,len(array),1)\n",
    "    return time\n",
    "\n",
    "def plot_loss(history):\n",
    "    plt.figure(figsize=(12,6))\n",
    "    plt.plot(history.history['loss'], label='loss')\n",
    "    plt.plot(history.history['val_loss'], label='val_loss')\n",
    "    #plt.plot(history.history['val_loss'], label='val_loss')\n",
    "    #plt.ylim([0, 10])\n",
    "    plt.xlabel('Epoch')\n",
    "    plt.ylabel('Error [Production]')\n",
    "    plt.legend()\n",
    "    plt.grid(True) "
   ]
  },
  {
   "cell_type": "code",
   "execution_count": 4,
   "metadata": {},
   "outputs": [],
   "source": [
    "def to_tensor(arr):\n",
    "    tensor_array=Variable(torch.Tensor(arr))\n",
    "    return tensor_array\n",
    "\n",
    "def reshape(tensor):\n",
    "    return torch.reshape(tensor,  (tensor.shape[0], 1, tensor.shape[1])) \n",
    "\n",
    "def to_numpy(tensor_array):\n",
    "    return tensor_array.data.numpy()"
   ]
  },
  {
   "cell_type": "code",
   "execution_count": 5,
   "metadata": {},
   "outputs": [],
   "source": [
    "def return_ensemble(n_cases,X_test):\n",
    "    ensemble = np.zeros([cases,X_test.shape[0]])\n",
    "    for i in range(n_cases):\n",
    "    \n",
    "        test_predict = lstm1(X_test)#forward pass\n",
    "        #data_predict = test_predict.data.numpy() #numpy conversion\n",
    "        \n",
    "        ensemble[i,:]= to_numpy(test_predict[:,0])\n",
    "        \n",
    "    return ensemble"
   ]
  },
  {
   "cell_type": "code",
   "execution_count": 6,
   "metadata": {},
   "outputs": [],
   "source": [
    "def return_step(time,difference,window):\n",
    "    array = np.zeros([1,3])\n",
    "    array[0,0] = time\n",
    "    array[0,1] = difference\n",
    "    array[0,2] = window\n",
    "    return array"
   ]
  },
  {
   "cell_type": "code",
   "execution_count": 7,
   "metadata": {},
   "outputs": [],
   "source": [
    "def generate_ensemble(step):\n",
    "    #X_test_tensors = to_tensor(X_test_step_p50)#Variable(torch.Tensor(X_test))\n",
    "    X_test_tensor = reshape(to_tensor(step))#torch.reshape(X_test_tensors,  (X_test_tensors.shape[0], 1, X_test_tensors.shape[1])) \n",
    "    return return_ensemble(50,X_test_tensor)"
   ]
  },
  {
   "cell_type": "code",
   "execution_count": 8,
   "metadata": {},
   "outputs": [],
   "source": [
    "def return_percentiles(arr):\n",
    "    return np.percentile(arr,10),np.percentile(arr,50),np.percentile(arr,90)"
   ]
  },
  {
   "cell_type": "code",
   "execution_count": null,
   "metadata": {},
   "outputs": [],
   "source": []
  }
 ],
 "metadata": {
  "kernelspec": {
   "display_name": "Python 3",
   "language": "python",
   "name": "python3"
  },
  "language_info": {
   "codemirror_mode": {
    "name": "ipython",
    "version": 3
   },
   "file_extension": ".py",
   "mimetype": "text/x-python",
   "name": "python",
   "nbconvert_exporter": "python",
   "pygments_lexer": "ipython3",
   "version": "3.8.3"
  }
 },
 "nbformat": 4,
 "nbformat_minor": 4
}
