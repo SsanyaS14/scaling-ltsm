{
 "cells": [
  {
   "cell_type": "markdown",
   "metadata": {},
   "source": [
    "\n",
    "<p align=\"center\">\n",
    "    <img src=\"https://github.com/GeostatsGuy/GeostatsPy/blob/master/TCG_color_logo.png?raw=true\" width=\"220\" height=\"240\" />\n",
    "\n",
    "</p>\n",
    "\n",
    "## Deep Learning for Time Series Forecasting\n",
    "\n",
    "### Eduardo Maldonado Cruz, Graduate Research Assistant, The University of Texas at Austin\n",
    "\n",
    "#### [Twitter](https://twitter.com/emaldonadocruz) | [GitHub](https://github.com/emaldonadocruz) | [LinkedIn](https://www.linkedin.com/in/eduardo-maldonado-8386a898/)\n",
    "\n",
    "### Michael Pyrcz, Associate Professor, The University of Texas at Austin \n",
    "\n",
    "#### [Twitter](https://twitter.com/geostatsguy) | [GitHub](https://github.com/GeostatsGuy) | [Website](http://michaelpyrcz.com) | [GoogleScholar](https://scholar.google.com/citations?user=QVZ20eQAAAAJ&hl=en&oi=ao) | [Book](https://www.amazon.com/Geostatistical-Reservoir-Modeling-Michael-Pyrcz/dp/0199731446) | [YouTube](https://www.youtube.com/channel/UCLqEr-xV-ceHdXXXrTId5ig)  | [LinkedIn](https://www.linkedin.com/in/michael-pyrcz-61a648a1)"
   ]
  },
  {
   "cell_type": "markdown",
   "metadata": {},
   "source": [
    "## Executive summary"
   ]
  },
  {
   "cell_type": "markdown",
   "metadata": {},
   "source": [
    "Forecasting fluid flow is essential to support optimum development decisions of subsurface resources such as groundwater, geothermal, and oil and gas. Forecasting offers invaluable information for understanding reservoirs, improving well productivity, preparing development and adjustment programs to maximize well ultimate recovery, recoverable reserves, and overall maximize project economics. In this workflow we explore a unique dataset containing gas production of multiple wells with no petrophysical information. We use LSTM recurrent neural network(RNN) architecture to forecast gas flow for a given production history interval. The derived model is used to forecast 12 months of gas production. We compare the forecast with the historical gas production."
   ]
  },
  {
   "cell_type": "markdown",
   "metadata": {},
   "source": [
    "## Introduction"
   ]
  },
  {
   "cell_type": "markdown",
   "metadata": {},
   "source": [
    "Long short-term memory (LSTM) is an artificial recurrent neural network (RNN) architecture. The purpose of RNN is to process sequence of data, where the current output of a sequence is related to the previous output. Unlike standard feedforward neural networks, LSTM has feedback connections.\n",
    "\n",
    "A single layer network is composed of the input x, and the output y is transformed by transforming $Wx+b$ and activated by the function $f$ :\n",
    "\n",
    "\\begin{equation*}\n",
    "y=f\\left(Wx+b\\right)\n",
    "\\label{eq:NN} \\tag{1}\n",
    "\\end{equation*}\n",
    "\n",
    "A common LSTM unit is composed of a cell, an input gate, an output gate and a forgetten gate. The cell remembers values over arbitrary time intervals and the three gates regulate the flow of information into and out of the cell.\n",
    "\n",
    "1 Forget Gate\n",
    "\n",
    "\\begin{equation*}\n",
    "f_{t}=\\sigma\\left(w_{f}^{T}\\ast h_{t-1}+U_{f}^{T}\\ast x_{t}+b_{f}\\right)\n",
    "\\label{eq:Forg} \\tag{2}\n",
    "\\end{equation*}\n",
    "\n",
    "2 Input Gate\n",
    "\n",
    "\\begin{equation*}\n",
    "i_{t}=\\sigma\\left(w_{i}^{T}\\ast h_{t-1}+U_{i}^{T}\\ast x_{t}+b_{i}\\right)\n",
    "\\label{eq:Inp} \\tag{3}\n",
    "\\end{equation*}\n",
    "\n",
    "3 Candidate Gate\n",
    "\n",
    "\\begin{equation*}\n",
    "c_{t}=\\sigma\\left(w_{c}^{T}\\ast h_{t-1}+U_{c}^{T}\\ast x_{t}+b_{c}\\right)\n",
    "\\label{eq:Cand} \\tag{4}\n",
    "\\end{equation*}\n",
    "\n",
    "4 Output Gate\n",
    "\n",
    "\\begin{equation*}\n",
    "O_{t}=\\sigma\\left(w_{o}^{T}\\ast h_{t-1}+U_{o}^{T}\\ast x_{t}+b_{o}\\right)\n",
    "\\label{eq:Out} \\tag{5}\n",
    "\\end{equation*}\n",
    "\n",
    "\\begin{equation*}\n",
    "h_t= O_{t}\\ast tanh \\left(C_{t}\\right)\n",
    "\\end{equation*}\n",
    "\n",
    "<div>\n",
    "<img src=\"https://colah.github.io/posts/2015-08-Understanding-LSTMs/img/LSTM3-chain.png\" width=\"400\"/>\n",
    "</div>\n",
    "\n",
    "<div>\n",
    "<img src=\"https://colah.github.io/posts/2015-08-Understanding-LSTMs/img/LSTM2-notation.png\" width=\"400\"/>\n",
    "</div>\n",
    "\n",
    "\n",
    "(Figure source: Olah Christopher, \"Long Short Term Memory\". *Colah.Github.io*, August 27, 2015. [colah.github.io](https://colah.github.io/posts/2015-08-Understanding-LSTMs/)) )\n",
    "\n",
    "The main difference in training an LSTM in contrast to a MLP is that to predict a value pt at time $t$, the previous $n$ samples $\\left\\{ p_{t-n},...,p_{t-1}\\right\\} $ have to be propagated through the network. LSTMs are well-suited for making predictions based on time series data."
   ]
  },
  {
   "cell_type": "markdown",
   "metadata": {},
   "source": [
    "## Description"
   ]
  },
  {
   "cell_type": "markdown",
   "metadata": {},
   "source": [
    "We use an LSTM for multi-step time series forecasting problem. For this specific problem we use a **Vector Output Model**\n",
    "\n",
    "But first let's import some useful packages for data visualization, plotting and data analysis."
   ]
  },
  {
   "cell_type": "markdown",
   "metadata": {},
   "source": [
    "## Package importing"
   ]
  },
  {
   "cell_type": "code",
   "execution_count": 3,
   "metadata": {},
   "outputs": [],
   "source": [
    "#Plotting\n",
    "import matplotlib.pyplot as plt\n",
    "\n",
    "# Data analysis\n",
    "import pandas as pd\n",
    "import numpy as np\n",
    "from numpy import array\n",
    "\n",
    "#Error measurement metrics\n",
    "from sklearn.metrics import mean_squared_error,mean_absolute_error\n",
    "from sklearn.preprocessing import StandardScaler\n",
    "\n",
    "## Pytorch libraries to define the LSTM\n",
    "import torch #pytorch\n",
    "import torch.nn as nn\n",
    "from torch.autograd import Variable \n",
    "\n",
    "from torch.optim.lr_scheduler import ReduceLROnPlateau\n",
    "\n",
    "#Import partial autocorrelation plot\n",
    "from statsmodels.graphics.tsaplots import plot_pacf\n",
    "\n",
    "#Import UTuning\n",
    "from UTuning import scorer, plots\n",
    "\n",
    "# Module to fit gaussian mixtures\n",
    "from sklearn import mixture\n",
    "\n",
    "import random"
   ]
  },
  {
   "cell_type": "code",
   "execution_count": 4,
   "metadata": {},
   "outputs": [],
   "source": [
    "#Set seed numbers for reproducibility\n",
    "torch.manual_seed(0)\n",
    "np.random.seed(0)\n",
    "random.seed(0)"
   ]
  },
  {
   "cell_type": "code",
   "execution_count": 5,
   "metadata": {},
   "outputs": [],
   "source": [
    "## We load a custom figure style\n",
    "plt.style.use('https://raw.githubusercontent.com/emaldonadocruz/Publication_figure_style/master/Publication_figure_style.mplstyle')"
   ]
  },
  {
   "cell_type": "markdown",
   "metadata": {},
   "source": [
    "Next we define a couple of useful functions that will be used in the notebook"
   ]
  },
  {
   "cell_type": "code",
   "execution_count": 6,
   "metadata": {},
   "outputs": [],
   "source": [
    "# split a univariate sequence into samples\n",
    "def split_sequence(sequence, n_steps_in, n_steps_out):\n",
    "    X, y = list(), list()\n",
    "    for i in range(len(sequence)):\n",
    "        # find the end of this pattern\n",
    "        end_ix = i + n_steps_in\n",
    "        out_end_ix = end_ix + n_steps_out\n",
    "        # check if we are beyond the sequence\n",
    "        if out_end_ix > len(sequence):\n",
    "            break\n",
    "        # gather input and output parts of the pattern\n",
    "        seq_x, seq_y = sequence[i:end_ix], sequence[end_ix:out_end_ix]\n",
    "        X.append(seq_x)\n",
    "        y.append(seq_y)\n",
    "    return array(X), array(y)\n",
    "\n",
    "def time_array(array):\n",
    "    \"\"\"\n",
    "    Returns a time array in months\n",
    "    \"\"\"\n",
    "    time=np.arange(0,len(array),1)\n",
    "    return time\n",
    "\n",
    "def plot_loss(history):\n",
    "    plt.figure(figsize=(12,6))\n",
    "    plt.plot(history.history['loss'], label='loss')\n",
    "    plt.plot(history.history['val_loss'], label='val_loss')\n",
    "    #plt.plot(history.history['val_loss'], label='val_loss')\n",
    "    #plt.ylim([0, 10])\n",
    "    plt.xlabel('Epoch')\n",
    "    plt.ylabel('Error [Production]')\n",
    "    plt.legend()\n",
    "    plt.grid(True)    \n"
   ]
  },
  {
   "cell_type": "code",
   "execution_count": 7,
   "metadata": {},
   "outputs": [],
   "source": [
    "def to_tensor(arr):\n",
    "    tensor_array=Variable(torch.Tensor(arr))\n",
    "    return tensor_array\n",
    "\n",
    "def reshape(tensor):\n",
    "    return torch.reshape(tensor,  (tensor.shape[0], 1, tensor.shape[1])) \n",
    "\n",
    "def to_numpy(tensor_array):\n",
    "    return tensor_array.data.numpy()"
   ]
  },
  {
   "cell_type": "code",
   "execution_count": 8,
   "metadata": {},
   "outputs": [],
   "source": [
    "def return_ensemble(n_cases,X_test):\n",
    "    ensemble = np.zeros([cases,X_test.shape[0]])\n",
    "    for i in range(n_cases):\n",
    "    \n",
    "        test_predict = lstm1(X_test)#forward pass\n",
    "        #data_predict = test_predict.data.numpy() #numpy conversion\n",
    "        \n",
    "        ensemble[i,:]= to_numpy(test_predict[:,0])\n",
    "        \n",
    "    return ensemble"
   ]
  },
  {
   "cell_type": "code",
   "execution_count": 9,
   "metadata": {},
   "outputs": [],
   "source": [
    "## Next step\n",
    "\n",
    "def return_step(time,difference,window):\n",
    "    array = np.zeros([1,3])\n",
    "    array[0,0] = time\n",
    "    array[0,1] = difference\n",
    "    array[0,2] = window\n",
    "    return array"
   ]
  },
  {
   "cell_type": "code",
   "execution_count": 10,
   "metadata": {},
   "outputs": [],
   "source": [
    "def generate_ensemble(step):\n",
    "    #X_test_tensors = to_tensor(X_test_step_p50)#Variable(torch.Tensor(X_test))\n",
    "    X_test_tensor = reshape(to_tensor(step))#torch.reshape(X_test_tensors,  (X_test_tensors.shape[0], 1, X_test_tensors.shape[1])) \n",
    "    return return_ensemble(50,X_test_tensor)\n"
   ]
  },
  {
   "cell_type": "code",
   "execution_count": 11,
   "metadata": {},
   "outputs": [],
   "source": [
    "def return_percentiles(arr):\n",
    "    return np.percentile(arr,10),np.percentile(arr,50),np.percentile(arr,90)"
   ]
  },
  {
   "cell_type": "markdown",
   "metadata": {},
   "source": [
    "## Production data"
   ]
  },
  {
   "cell_type": "markdown",
   "metadata": {},
   "source": [
    "### Load data:\n",
    "\n",
    "The following workflow uses a .csv file that contains:\n",
    "* Entire production data for all wells at different times in months, Production data is in Mscf, time is in months"
   ]
  },
  {
   "cell_type": "code",
   "execution_count": 13,
   "metadata": {
    "scrolled": true
   },
   "outputs": [],
   "source": [
    "df= pd.read_csv('Field_rate.csv')\n",
    "\n",
    "Rate=df.loc[:,df.columns.str.startswith('Well')].to_numpy()\n",
    "Rate=np.nan_to_num(Rate)\n",
    "\n",
    "name_wells=[0]\n",
    "\n",
    "def well_picker(arr,listw):\n",
    "    list_wells=[]\n",
    "    list_times = []\n",
    "    for i in range(len(listw)):\n",
    "        list_wells.append(arr[:,listw[i]])\n",
    "        list_times.append(np.arange(0,np.count_nonzero(arr[:,listw[i]])))\n",
    "    return list_wells,list_times\n",
    "\n",
    "Wells,Times = well_picker(Rate,name_wells)\n",
    "\n",
    "dataset = np.hstack(Wells)\n",
    "Time = np.hstack(Times)\n",
    "dataset = dataset[dataset!=0]\n"
   ]
  },
  {
   "cell_type": "code",
   "execution_count": 14,
   "metadata": {},
   "outputs": [],
   "source": [
    "#Construc a dataframe that contains information of production and time\n",
    "data = pd.DataFrame({'Production':dataset,'Time':Time})"
   ]
  },
  {
   "cell_type": "markdown",
   "metadata": {},
   "source": [
    "### Partial autocorrelation plot"
   ]
  },
  {
   "cell_type": "markdown",
   "metadata": {},
   "source": [
    "Time series of data are correlated in time. We have autocorrelation! 𝑡+1 is close to the value at time 𝑡. Autocorrelation is the measure of the degree of similarity between a given time series and the lagged version of that time series over successive time periods.\n",
    "The plot of the autocorrelation function describes he direct relationship between an observation and its lag."
   ]
  },
  {
   "cell_type": "code",
   "execution_count": 15,
   "metadata": {},
   "outputs": [
    {
     "data": {
      "text/plain": [
       "Text(0.5, 0, 'Time steps')"
      ]
     },
     "execution_count": 15,
     "metadata": {},
     "output_type": "execute_result"
    },
    {
     "data": {
      "image/png": "[encoded data removed]",
      "text/plain": [
       "<Figure size 698.976x432 with 1 Axes>"
      ]
     },
     "metadata": {
      "needs_background": "light"
     },
     "output_type": "display_data"
    }
   ],
   "source": [
    "plot_pacf(data.Production.diff(1).dropna(),method = 'ywm')\n",
    "plt.ylabel('Correlation')\n",
    "plt.xlabel('Time steps')"
   ]
  },
  {
   "cell_type": "markdown",
   "metadata": {},
   "source": [
    "## Standarization and scaling"
   ]
  },
  {
   "cell_type": "code",
   "execution_count": 16,
   "metadata": {},
   "outputs": [],
   "source": [
    "#Perform standarization and scaling\n",
    "scaler_prod = StandardScaler()\n",
    "scaler_time = StandardScaler()\n",
    "prod_data = scaler_prod.fit_transform(data.Production.values.reshape(-1,1))\n",
    "time_data = scaler_time.fit_transform(data.Time.values.reshape(-1,1))"
   ]
  },
  {
   "cell_type": "code",
   "execution_count": 17,
   "metadata": {},
   "outputs": [
    {
     "name": "stdout",
     "output_type": "stream",
     "text": [
      "<class 'pandas.core.frame.DataFrame'>\n",
      "RangeIndex: 95 entries, 4 to 98\n",
      "Data columns (total 4 columns):\n",
      " #   Column      Non-Null Count  Dtype  \n",
      "---  ------      --------------  -----  \n",
      " 0   Production  95 non-null     float64\n",
      " 1   Time        95 non-null     float64\n",
      " 2   Difference  95 non-null     float64\n",
      " 3   Rwindow     95 non-null     float64\n",
      "dtypes: float64(4)\n",
      "memory usage: 3.1 KB\n"
     ]
    }
   ],
   "source": [
    "data = pd.DataFrame({'Production':prod_data[:,0],'Time':time_data[:,0]})\n",
    "\n",
    "data['Difference'] = data['Production'].diff(1).shift(1)\n",
    "data['Rwindow'] = data['Production'].rolling(window=2).mean().shift(1)\n",
    "\n",
    "\n",
    "data = data.iloc[4:] ## We remove the first 4 points and shift the data to avoid autocorrelation\n",
    "data.info()"
   ]
  },
  {
   "cell_type": "code",
   "execution_count": 18,
   "metadata": {},
   "outputs": [],
   "source": [
    "X = np.zeros([len(data.index),3]) #Features: Time, Difference, Rate\n",
    "y = np.zeros([len(data.index),1])"
   ]
  },
  {
   "cell_type": "code",
   "execution_count": 19,
   "metadata": {},
   "outputs": [],
   "source": [
    "X[:,0] = data.Time.values\n",
    "X[:,1] = data.Difference.values\n",
    "X[:,2] = data.Rwindow.values\n",
    "\n",
    "y = data.Production.values"
   ]
  },
  {
   "cell_type": "markdown",
   "metadata": {},
   "source": [
    "And select a number of steps from the time series and a well from the production data."
   ]
  },
  {
   "cell_type": "markdown",
   "metadata": {},
   "source": [
    "## Data example"
   ]
  },
  {
   "cell_type": "code",
   "execution_count": 20,
   "metadata": {},
   "outputs": [
    {
     "data": {
      "image/png": "[encoded data removed]",
      "text/plain": [
       "<Figure size 698.976x432 with 1 Axes>"
      ]
     },
     "metadata": {
      "needs_background": "light"
     },
     "output_type": "display_data"
    }
   ],
   "source": [
    "fig, ax = plt.subplots()\n",
    "\n",
    "ax.plot(y,'ko',alpha=0.8,label='Gas production, historical');\n",
    "ax.set_ylabel('Standardized Rate')\n",
    "ax.set_xlabel('Time $[month]$')\n",
    "ax.legend();"
   ]
  },
  {
   "cell_type": "markdown",
   "metadata": {},
   "source": [
    "The rate difference is plotted next"
   ]
  },
  {
   "cell_type": "code",
   "execution_count": 21,
   "metadata": {},
   "outputs": [
    {
     "data": {
      "image/png": "[encoded data removed]",
      "text/plain": [
       "<Figure size 698.976x432 with 1 Axes>"
      ]
     },
     "metadata": {
      "needs_background": "light"
     },
     "output_type": "display_data"
    }
   ],
   "source": [
    "fig, ax = plt.subplots()\n",
    "\n",
    "ax.plot(X[:,1],'ko',alpha=0.8,label='Gas production, historical');\n",
    "ax.set_ylabel('Standardized Rate difference')\n",
    "ax.set_xlabel('Time $[month]$')\n",
    "ax.legend();"
   ]
  },
  {
   "cell_type": "markdown",
   "metadata": {},
   "source": [
    "## Data serparation between training and testing"
   ]
  },
  {
   "cell_type": "markdown",
   "metadata": {},
   "source": [
    "We want to predict the next 20 months from our dataset. This corresponds to about 20% of testing"
   ]
  },
  {
   "cell_type": "code",
   "execution_count": 22,
   "metadata": {},
   "outputs": [],
   "source": [
    "n_features=1\n",
    "train= len(data.index)-20\n",
    "test = len(data.index) - train\n",
    "X_train = X[:train,:]\n",
    "X_test= X[train:,:]\n",
    "y_train = y[:train] \n",
    "y_test = y[train:]\n",
    "\n",
    "y_train = y_train.reshape((y_train.shape[0]),1)\n",
    "y_test = y_test.reshape((y_test.shape[0]),1)"
   ]
  },
  {
   "cell_type": "markdown",
   "metadata": {},
   "source": [
    "Transformation to tensors"
   ]
  },
  {
   "cell_type": "code",
   "execution_count": 23,
   "metadata": {},
   "outputs": [],
   "source": [
    "X_train_tensors = Variable(torch.Tensor(X_train))\n",
    "X_test_tensors = Variable(torch.Tensor(X_test))\n",
    "\n",
    "y_train_tensors = Variable(torch.Tensor(y_train))\n",
    "y_test_tensors = Variable(torch.Tensor(y_test)) "
   ]
  },
  {
   "cell_type": "markdown",
   "metadata": {},
   "source": [
    "And reshape"
   ]
  },
  {
   "cell_type": "code",
   "execution_count": 24,
   "metadata": {},
   "outputs": [],
   "source": [
    "#reshaping to rows, timestamps, features\n",
    "\n",
    "X_train_tensors_final = torch.reshape(X_train_tensors,   (X_train_tensors.shape[0], 1, X_train_tensors.shape[1]))\n",
    "X_test_tensors_final = torch.reshape(X_test_tensors,  (X_test_tensors.shape[0], 1, X_test_tensors.shape[1])) "
   ]
  },
  {
   "cell_type": "code",
   "execution_count": 25,
   "metadata": {
    "scrolled": true
   },
   "outputs": [
    {
     "name": "stdout",
     "output_type": "stream",
     "text": [
      "Training Shape torch.Size([75, 1, 3]) torch.Size([75, 1])\n",
      "Testing Shape torch.Size([20, 1, 3]) torch.Size([20, 1])\n"
     ]
    }
   ],
   "source": [
    "print(\"Training Shape\", X_train_tensors_final.shape, y_train_tensors.shape)\n",
    "print(\"Testing Shape\", X_test_tensors_final.shape, y_test_tensors.shape) "
   ]
  },
  {
   "cell_type": "markdown",
   "metadata": {},
   "source": [
    "### LSTM definition"
   ]
  },
  {
   "cell_type": "markdown",
   "metadata": {},
   "source": [
    "Next we define the lstm, we include dropout as bayesian approximation"
   ]
  },
  {
   "cell_type": "code",
   "execution_count": 26,
   "metadata": {
    "code_folding": [
     0
    ]
   },
   "outputs": [],
   "source": [
    "class LSTM1(nn.Module):\n",
    "    def __init__(self, num_classes, input_size, hidden_size, num_layers, seq_length, p = 0.01):\n",
    "        super(LSTM1, self).__init__()\n",
    "        self.num_classes = num_classes #number of classes\n",
    "        self.num_layers = num_layers #number of layers\n",
    "        self.input_size = input_size #input size\n",
    "        self.hidden_size = hidden_size #hidden state\n",
    "        self.seq_length = seq_length #sequence length\n",
    "\n",
    "        self.lstm = nn.LSTM(input_size=input_size, hidden_size=hidden_size,\n",
    "                          num_layers=num_layers, batch_first=True) #lstm\n",
    "        self.fc_1 =  nn.Linear(hidden_size, 1024) #fully connected 1\n",
    "        self.fc_2 =  nn.Linear(1024,1024) #fully connected 1\n",
    "        self.fc_3 =  nn.Linear(64,32) #fully connected 1\n",
    "        self.fc = nn.Linear(1024, num_classes) #fully connected last layer\n",
    "        self.p = p\n",
    "        self.relu = nn.ReLU()\n",
    "    \n",
    "    def forward(self,x):\n",
    "        h_0 = Variable(torch.zeros(self.num_layers, x.size(0), self.hidden_size)) #hidden state\n",
    "        c_0 = Variable(torch.zeros(self.num_layers, x.size(0), self.hidden_size)) #internal state\n",
    "        # Propagate input through LSTM\n",
    "        output, (hn, cn) = self.lstm(x, (h_0, c_0)) #lstm with input, hidden, and internal state\n",
    "        hn = hn.view(-1, self.hidden_size) #reshaping the data for Dense layer next\n",
    "        out = self.relu(hn)\n",
    "        #out = nn.functional.dropout(out, p=self.p, training=True)\n",
    "        out = self.fc_1(out) #first Dense\n",
    "        out = nn.functional.dropout(out, p=self.p, training=True)\n",
    "        out = self.relu(out) #relu\n",
    "        \n",
    "        out = self.fc_2(out) #second Dense\n",
    "        out = nn.functional.dropout(out, p=self.p, training=True)\n",
    "        out = self.relu(out) #relu\n",
    "                \n",
    "        out = self.fc(out) #Final Output\n",
    "        return out"
   ]
  },
  {
   "cell_type": "markdown",
   "metadata": {},
   "source": [
    "We use the following model parameters that were previously found by hyperparameter search"
   ]
  },
  {
   "cell_type": "code",
   "execution_count": 27,
   "metadata": {},
   "outputs": [],
   "source": [
    "num_epochs = 700 #1000 epochs\n",
    "learning_rate = 0.001#0.001 #0.001 lr\n",
    "\n",
    "input_size = 3 #number of features\n",
    "hidden_size = 7*96#6 #number of features in hidden state #10, 9\n",
    "num_layers = 1 #number of stacked lstm layers\n",
    "\n",
    "num_classes = 1 #number of output classes \n",
    "\n",
    "dropout = 0.0"
   ]
  },
  {
   "cell_type": "code",
   "execution_count": 28,
   "metadata": {},
   "outputs": [],
   "source": [
    "lstm1 = LSTM1(num_classes,\n",
    "              input_size,\n",
    "              hidden_size,\n",
    "              num_layers,\n",
    "              X_train_tensors_final.shape[1],\n",
    "              p=dropout) #"
   ]
  },
  {
   "cell_type": "code",
   "execution_count": 29,
   "metadata": {},
   "outputs": [
    {
     "name": "stdout",
     "output_type": "stream",
     "text": [
      "LSTM1(\n",
      "  (lstm): LSTM(3, 672, batch_first=True)\n",
      "  (fc_1): Linear(in_features=672, out_features=1024, bias=True)\n",
      "  (fc_2): Linear(in_features=1024, out_features=1024, bias=True)\n",
      "  (fc_3): Linear(in_features=64, out_features=32, bias=True)\n",
      "  (fc): Linear(in_features=1024, out_features=1, bias=True)\n",
      "  (relu): ReLU()\n",
      ")\n"
     ]
    }
   ],
   "source": [
    "print(lstm1)"
   ]
  },
  {
   "cell_type": "code",
   "execution_count": 30,
   "metadata": {},
   "outputs": [],
   "source": [
    "criterion = torch.nn.L1Loss()    # mean-squared error for regression\n",
    "optimizer = torch.optim.Adam(lstm1.parameters(), lr=learning_rate)"
   ]
  },
  {
   "cell_type": "markdown",
   "metadata": {},
   "source": [
    "Perform model training "
   ]
  },
  {
   "cell_type": "code",
   "execution_count": 31,
   "metadata": {
    "scrolled": true
   },
   "outputs": [
    {
     "name": "stdout",
     "output_type": "stream",
     "text": [
      "Epoch: 0, loss: 0.80252\n",
      "Epoch:   0, MAE: 0.8025223612785339\n",
      "Epoch: 100, loss: 0.05054\n",
      "Epoch: 100, MAE: 0.05053795501589775\n",
      "Epoch: 200, loss: 0.05201\n",
      "Epoch: 200, MAE: 0.052013665437698364\n",
      "Epoch: 300, loss: 0.04458\n",
      "Epoch: 300, MAE: 0.044581618160009384\n",
      "Epoch: 400, loss: 0.03103\n",
      "Epoch: 400, MAE: 0.03102775663137436\n",
      "Epoch: 500, loss: 0.03847\n",
      "Epoch: 500, MAE: 0.03846953809261322\n",
      "Epoch: 600, loss: 0.02918\n",
      "Epoch: 600, MAE: 0.029184166342020035\n"
     ]
    }
   ],
   "source": [
    "loss_values=[]\n",
    "loss_test_values=[]\n",
    "for epoch in range(num_epochs):\n",
    "    outputs = lstm1.forward(X_train_tensors_final) #forward pass\n",
    "    optimizer.zero_grad() #caluclate the gradient, manually setting to 0\n",
    "\n",
    "    # obtain the loss function\n",
    "    loss = criterion(outputs, y_train_tensors)\n",
    "    loss.backward() #calculates the loss of the loss function\n",
    "    loss_values.append(loss.item())\n",
    "\n",
    "    \n",
    "    test_output = lstm1.forward(X_test_tensors_final) #forward pass\n",
    "    loss_test = criterion(test_output, y_test_tensors)\n",
    "    #scheduler.step(loss_test)\n",
    "    loss_test_values.append(loss_test.item())\n",
    "\n",
    "    optimizer.step() #improve from loss, i.e backprop\n",
    "    if epoch % 100 == 0:\n",
    "        print(\"Epoch: %d, loss: %1.5f\" % (epoch, loss.item()))\n",
    "        print(f'Epoch: {epoch:3.0f}, MAE: {loss.item()}')\n",
    "        \n"
   ]
  },
  {
   "cell_type": "markdown",
   "metadata": {},
   "source": [
    "We make a curve to show the loss and evaluate if the model is underfitting or overfitting"
   ]
  },
  {
   "cell_type": "code",
   "execution_count": 32,
   "metadata": {},
   "outputs": [
    {
     "data": {
      "text/plain": [
       "Text(0, 0.5, 'Loss')"
      ]
     },
     "execution_count": 32,
     "metadata": {},
     "output_type": "execute_result"
    },
    {
     "data": {
      "image/png": "[encoded data removed]",
      "text/plain": [
       "<Figure size 720x432 with 1 Axes>"
      ]
     },
     "metadata": {
      "needs_background": "light"
     },
     "output_type": "display_data"
    }
   ],
   "source": [
    "plt.figure(figsize=(10,6))\n",
    "plt.plot(loss_values)\n",
    "plt.plot(loss_test_values)\n",
    "plt.xlabel('Epochs')\n",
    "plt.ylabel('Loss')"
   ]
  },
  {
   "cell_type": "markdown",
   "metadata": {},
   "source": [
    "#### LSTM training and prediction data"
   ]
  },
  {
   "cell_type": "markdown",
   "metadata": {},
   "source": [
    "Next we use the trained model to predict the training data and observe the fit"
   ]
  },
  {
   "cell_type": "code",
   "execution_count": 33,
   "metadata": {
    "scrolled": false
   },
   "outputs": [
    {
     "data": {
      "image/png": "[encoded data removed]",
      "text/plain": [
       "<Figure size 720x432 with 1 Axes>"
      ]
     },
     "metadata": {
      "needs_background": "light"
     },
     "output_type": "display_data"
    }
   ],
   "source": [
    "train_predict = lstm1(X_train_tensors_final)#forward pass\n",
    "data_predict = train_predict.data.numpy() #numpy conversion\n",
    "dataY_plot = y_train[:,0]\n",
    "\n",
    "plt.figure(figsize=(10,6)) #plotting\n",
    "plt.plot(dataY_plot, label='Training Data') #actual plot\n",
    "plt.plot(data_predict, label='Predicted Data') #predicted plot\n",
    "plt.title('Time-Series Prediction')\n",
    "ax.set_ylabel('Standardized Rate')\n",
    "ax.set_xlabel('Time $[month]$')\n",
    "plt.legend()\n",
    "plt.show() "
   ]
  },
  {
   "cell_type": "markdown",
   "metadata": {},
   "source": [
    "There is no shift in our predictions, the model is truly learning from the dataset. Next comes forecasting."
   ]
  },
  {
   "cell_type": "markdown",
   "metadata": {},
   "source": [
    "#### Forecasting"
   ]
  },
  {
   "cell_type": "code",
   "execution_count": 34,
   "metadata": {},
   "outputs": [
    {
     "data": {
      "image/png": "[encoded data removed]",
      "text/plain": [
       "<Figure size 698.976x432 with 1 Axes>"
      ]
     },
     "metadata": {
      "needs_background": "light"
     },
     "output_type": "display_data"
    }
   ],
   "source": [
    "test_predict = lstm1(X_test_tensors_final)#forward pass\n",
    "test_pred = test_predict.data.numpy() #numpy conversion\n",
    "\n",
    "plt.plot(X_train[:,0],y_train,label = 'Training Data')\n",
    "plt.plot(X_test[:,0],y_test[:,0], label='Testing Data') #actual plot\n",
    "plt.plot(X_test[:,0],test_pred[:,0], label='Predicted Data') #predicted plot\n",
    "plt.title('Time-Series Prediction')\n",
    "ax.set_ylabel('Standardized Rate')\n",
    "ax.set_xlabel('Time $[month]$')\n",
    "plt.legend()\n",
    "plt.show() "
   ]
  },
  {
   "cell_type": "markdown",
   "metadata": {},
   "source": [
    "## The Authors:\n",
    "\n",
    "### Eduardo Maldonado Cruz, Graduate Research Assistant, The University of Texas at Austin\n",
    "\n",
    "#### [Twitter](https://twitter.com/emaldonadocruz) | [GitHub](https://github.com/emaldonadocruz) | [LinkedIn](https://www.linkedin.com/in/eduardo-maldonado-8386a898/)\n",
    "\n",
    "Eduardo is a Ph.D. in Petroleum Engineering candidate at the University of Texas at Austin in the Hildebrand Department of Petroleum and Geosystems Engineering. Before that, he worked as a lecturer and Reservoir Engineer for a private company in Mexico, where he developed multiple development projects in tight gas. He received his Bachelor’s and Master’s degree from the National Autonomous University of Mexico. Eduardo’s specializations include reservoir engineering, numerical simulation, machine learning, and uncertainty modeling.\n",
    "\n",
    "### Michael Pyrcz, Associate Professor, University of Texas at Austin \n",
    "*Novel Data Analytics, Geostatistics and Machine Learning Subsurface Solutions*\n",
    "\n",
    "With over 17 years of experience in subsurface consulting, research and development, Michael has returned to academia driven by his passion for teaching and enthusiasm for enhancing engineers' and geoscientists' impact in subsurface resource development. \n",
    "\n",
    "For more about Michael check out these links:\n",
    "\n",
    "#### [Twitter](https://twitter.com/geostatsguy) | [GitHub](https://github.com/GeostatsGuy) | [Website](http://michaelpyrcz.com) | [GoogleScholar](https://scholar.google.com/citations?user=QVZ20eQAAAAJ&hl=en&oi=ao) | [Book](https://www.amazon.com/Geostatistical-Reservoir-Modeling-Michael-Pyrcz/dp/0199731446) | [YouTube](https://www.youtube.com/channel/UCLqEr-xV-ceHdXXXrTId5ig)  | [LinkedIn](https://www.linkedin.com/in/michael-pyrcz-61a648a1)\n",
    "\n",
    "#### Want to Work Together?\n",
    "\n",
    "I hope this content is helpful to those that want to learn more about subsurface modeling, data analytics and machine learning. Students and working professionals are welcome to participate.\n",
    "\n",
    "* Want to invite me to visit your company for training, mentoring, project review, workflow design and / or consulting? I'd be happy to drop by and work with you! \n",
    "\n",
    "* Interested in partnering, supporting my graduate student research or my Subsurface Data Analytics and Machine Learning consortium (co-PIs including Profs. Foster, Torres-Verdin and van Oort)? My research combines data analytics, stochastic modeling and machine learning theory with practice to develop novel methods and workflows to add value. We are solving challenging subsurface problems!\n",
    "\n",
    "* I can be reached at mpyrcz@austin.utexas.edu.\n",
    "\n",
    "I'm always happy to discuss,\n",
    "\n",
    "*Michael*\n",
    "\n",
    "Michael Pyrcz, Ph.D., P.Eng. Associate Professor The Hildebrand Department of Petroleum and Geosystems Engineering, Bureau of Economic Geology, The Jackson School of Geosciences, The University of Texas at Austin\n",
    "\n",
    "I have other demonstrations on the basics of working with DataFrames, ndarrays, univariate statistics, plotting data, declustering, data transformations, trend modeling and many other workflows available at https://github.com/GeostatsGuy/PythonNumericalDemos and https://github.com/GeostatsGuy/GeostatsPy. \n",
    "  \n",
    "I hope this was helpful,\n",
    "\n",
    "*Michael*\n",
    "\n",
    "Michael Pyrcz, Ph.D., P.Eng. Associate Professor The Hildebrand Department of Petroleum and Geosystems Engineering, Bureau of Economic Geology, The Jackson School of Geosciences, The University of Texas at Austin\n",
    "\n",
    "#### More Resources Available at: [Twitter](https://twitter.com/geostatsguy) | [GitHub](https://github.com/GeostatsGuy) | [Website](http://michaelpyrcz.com) | [GoogleScholar](https://scholar.google.com/citations?user=QVZ20eQAAAAJ&hl=en&oi=ao) | [Book](https://www.amazon.com/Geostatistical-Reservoir-Modeling-Michael-Pyrcz/dp/0199731446) | [YouTube](https://www.youtube.com/channel/UCLqEr-xV-ceHdXXXrTId5ig)  | [LinkedIn](https://www.linkedin.com/in/michael-pyrcz-61a648a1)\n"
   ]
  }
 ],
 "metadata": {
  "kernelspec": {
   "display_name": "Python 3",
   "language": "python",
   "name": "python3"
  },
  "language_info": {
   "codemirror_mode": {
    "name": "ipython",
    "version": 3
   },
   "file_extension": ".py",
   "mimetype": "text/x-python",
   "name": "python",
   "nbconvert_exporter": "python",
   "pygments_lexer": "ipython3",
   "version": "3.8.3"
  },
  "toc": {
   "base_numbering": 1,
   "nav_menu": {},
   "number_sections": true,
   "sideBar": true,
   "skip_h1_title": false,
   "title_cell": "Table of Contents",
   "title_sidebar": "Contents",
   "toc_cell": false,
   "toc_position": {},
   "toc_section_display": true,
   "toc_window_display": false
  },
  "varInspector": {
   "cols": {
    "lenName": 16,
    "lenType": 16,
    "lenVar": 40
   },
   "kernels_config": {
    "python": {
     "delete_cmd_postfix": "",
     "delete_cmd_prefix": "del ",
     "library": "var_list.py",
     "varRefreshCmd": "print(var_dic_list())"
    },
    "r": {
     "delete_cmd_postfix": ") ",
     "delete_cmd_prefix": "rm(",
     "library": "var_list.r",
     "varRefreshCmd": "cat(var_dic_list()) "
    }
   },
   "types_to_exclude": [
    "module",
    "function",
    "builtin_function_or_method",
    "instance",
    "_Feature"
   ],
   "window_display": false
  }
 },
 "nbformat": 4,
 "nbformat_minor": 5
}
